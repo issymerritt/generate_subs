{
 "cells": [
  {
   "cell_type": "code",
   "execution_count": 27,
   "id": "1ae18a30-b2a4-40df-805a-269fd2b89fb1",
   "metadata": {},
   "outputs": [],
   "source": [
    "from key_analysis_fns import *\n",
    "import numpy as np\n",
    "import matplotlib.pyplot as plt\n",
    "import os\n",
    "import sys\n",
    "from scipy import stats\n"
   ]
  },
  {
   "cell_type": "code",
   "execution_count": 26,
   "id": "ded3e87c-1787-4ee9-9d30-80c9adcea433",
   "metadata": {},
   "outputs": [
    {
     "name": "stdout",
     "output_type": "stream",
     "text": [
      "Parsing data for Example_outputs/Rigid_ESIPT_Enol_COOH_0.log.\n",
      "Optimisation completed successfully, correct number of negative frequencies (Min = 0, TS = 1).\n"
     ]
    }
   ],
   "source": [
    "PATH_TO_MOLECULE_1 = 'Example_outputs/Rigid_ESIPT_Enol_COOH_0.log'\n",
    "PATH_TO_MOLECULE_2 = 'Example_outputs/Rigid_ESIPT_Keto_COOH_0.log'\n",
    "PATH_TO_MOLECULE_3 = 'Example_outputs/Rigid_ESIPT_TS_COOH_0.log'\n",
    "\n",
    "# Load data for molecules from gaussian output file - automatically checks and throws error for non-converged optimisations or too many imaginary frequencies\n",
    "example_molecule_1 = Key_Geometry(f'{PATH_TO_MOLECULE_1}', verbose = True, ts = False) # Verbose - prints information on filename and convergence\n",
    "example_molecule_2 = Key_Geometry(f'{PATH_TO_MOLECULE_2}', verbose = False, ts = False) # Verbose = False - check for optimisation and frequencies still carried out but not printed\n",
    "example_molecule_3 = Key_Geometry(f'{PATH_TO_MOLECULE_3}', verbose = False, ts = True) # ts = True required for TS optimisations\n"
   ]
  },
  {
   "cell_type": "code",
   "execution_count": 25,
   "id": "f0b2d128-0117-4841-b9ef-cd50f51efafa",
   "metadata": {},
   "outputs": [
    {
     "name": "stdout",
     "output_type": "stream",
     "text": [
      "---- Example_outputs/Rigid_ESIPT_Enol_COOH_0.log ----\n",
      "Dipole Moment: 6.36633\n",
      "Isotropic Polarisability: 365.527\n",
      "Anisotropic Polarisability: 323.545\n",
      "Excited States: [3.476, 3.9871, 4.0433]\n",
      "Oscillator Strengths: [0.4998, 0.0221, 0.05]\n",
      "Frequencies and Coordinates available\n",
      "HOMO energy: -0.2218\n",
      "LUMO energy: -0.06446\n"
     ]
    }
   ],
   "source": [
    "example_molecule_1.molecule_report() # Prints key information"
   ]
  },
  {
   "cell_type": "code",
   "execution_count": 24,
   "id": "c86a5276-dbb9-4f59-995d-8a6e2831065c",
   "metadata": {},
   "outputs": [
    {
     "data": {
      "text/plain": [
       "323.545"
      ]
     },
     "execution_count": 24,
     "metadata": {},
     "output_type": "execute_result"
    }
   ],
   "source": [
    "# Information accessible \n",
    "\n",
    "example_molecule_1.all_states # Energies of all states (Eh)\n",
    "example_molecule_1.es_oscillator_strengths # Oscillator strengths from TD-DFT\n",
    "example_molecule_1.freqs # List of all frequencies\n",
    "example_molecule_1.occ_orbs_energies # Orbital energies for occupied orbitals\n",
    "example_molecule_1.virt_orbs_energies # Orbital energies for occupied orbitals\n",
    "example_molecule_1.dipole_moment # Dipole moment\n",
    "example_molecule_1.iso_polarisability # Polarisability (isotropic)\n",
    "example_molecule_1.aniso_polarisability # Polarisability (anisotropic)"
   ]
  },
  {
   "cell_type": "code",
   "execution_count": 22,
   "id": "fe09f3da-0954-4834-bd22-01bc8435166d",
   "metadata": {},
   "outputs": [
    {
     "data": {
      "text/plain": [
       "179.95761744882338"
      ]
     },
     "execution_count": 22,
     "metadata": {},
     "output_type": "execute_result"
    }
   ],
   "source": [
    "example_molecule_1.bond_length(3, 4) # Bond length (Angstrom) between atoms 3-4 (xyz atom ordering, starts at 1)\n",
    "example_molecule_1.angle(4, 3, 34) # Angle (degrees) between atoms 3-4-34 (xyz atom ordering, starts at 1)\n",
    "example_molecule_1.dihedral(4, 3, 34, 35) # Dihedral angle (degrees) between atoms 3-4-34-35 (xyz atom ordering, starts at 1)"
   ]
  },
  {
   "cell_type": "code",
   "execution_count": 23,
   "id": "d404724c-6b77-4ac7-8fa9-a3faf19d9723",
   "metadata": {},
   "outputs": [
    {
     "name": "stdout",
     "output_type": "stream",
     "text": [
      "179.95761744882338\n",
      "-179.93829928864272\n",
      "179.98897270968342\n"
     ]
    }
   ],
   "source": [
    "# Check all molecules match the same conformer - i.e. substitution facing same direction\n",
    "\n",
    "dih1 = [4,3,34,35] # Atom numbering for dihedral attaching substitution to molecule\n",
    "\n",
    "for molecule in [example_molecule_1, example_molecule_2, example_molecule_3]:\n",
    "    print(molecule.dihedral(dih1[0],dih1[1],dih1[2],dih1[3]))\n"
   ]
  },
  {
   "cell_type": "code",
   "execution_count": 11,
   "id": "b2d0410b-b7d9-41e4-b99c-115fdd0e41a0",
   "metadata": {},
   "outputs": [
    {
     "name": "stdout",
     "output_type": "stream",
     "text": [
      "Imaginary Frequency :  -1015.8557 cm-1\n"
     ]
    }
   ],
   "source": [
    "# Check correct TS - Proton Transfer should have frequency ca. 1000 cm-1\n",
    "\n",
    "print('Imaginary Frequency : ', example_molecule_3.freqs[0], 'cm-1')"
   ]
  },
  {
   "cell_type": "code",
   "execution_count": 12,
   "id": "0a9f8e43-7c9a-4555-a78e-6f38cd1edd1f",
   "metadata": {},
   "outputs": [],
   "source": [
    "example_molecule_1.write_mol('molecule_1.xyz') # Writes xyz file of molecule for visualisation/checking atom numbering"
   ]
  },
  {
   "cell_type": "code",
   "execution_count": null,
   "id": "d51ba2d0-4dbe-4cfb-a6b3-ab5d8f7c2859",
   "metadata": {},
   "outputs": [],
   "source": []
  }
 ],
 "metadata": {
  "kernelspec": {
   "display_name": "Python 3 (ipykernel)",
   "language": "python",
   "name": "python3"
  },
  "language_info": {
   "codemirror_mode": {
    "name": "ipython",
    "version": 3
   },
   "file_extension": ".py",
   "mimetype": "text/x-python",
   "name": "python",
   "nbconvert_exporter": "python",
   "pygments_lexer": "ipython3",
   "version": "3.10.12"
  }
 },
 "nbformat": 4,
 "nbformat_minor": 5
}
